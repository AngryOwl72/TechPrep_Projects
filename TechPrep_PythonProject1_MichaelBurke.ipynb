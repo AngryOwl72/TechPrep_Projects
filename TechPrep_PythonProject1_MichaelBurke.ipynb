{
  "metadata": {
    "kernelspec": {
      "name": "python",
      "display_name": "Python (Pyodide)",
      "language": "python"
    },
    "language_info": {
      "codemirror_mode": {
        "name": "python",
        "version": 3
      },
      "file_extension": ".py",
      "mimetype": "text/x-python",
      "name": "python",
      "nbconvert_exporter": "python",
      "pygments_lexer": "ipython3",
      "version": "3.8"
    }
  },
  "nbformat_minor": 5,
  "nbformat": 4,
  "cells": [
    {
      "id": "6eb68ec3-4c37-4433-b4e1-aa1c6b0e1eac",
      "cell_type": "code",
      "source": "## Project 1.1.B: Fortune Cookie\n\n# A list of the 10 possible fortunes (sourced from https://www.best-ever-cookie-collection.com/fortune-cookie-sayings.html)\nFORTUNES = [\"An exciting opportunity lies ahead of you.\", \"Your ability to juggle many tasks will take you far.\", \n            \"Be true to your work, your word, and your friend.\", \"A journey of a thousand miles begins with a single step.\", \n            \"A man cannot be comfortable without his own approval.\", \"You will receive money from an unexpected source.\",\n            \"Expect the unexpected.\", \"Nothing great was ever achieved without enthusiasm.\", \n            \"Borrow money from a pessimist. They don't expect it back.\", \"Love isn't something you find. Love is something that finds you.\"]\n\n# Prints a random fortune, followed by four random integers from 1 to 99 (inclusive)\nprint(FORTUNES[random.randint(0,9)],random.randint(1,99),random.randint(1,99),\n      random.randint(1,99),random.randint(1,99))",
      "metadata": {
        "trusted": true
      },
      "outputs": [
        {
          "name": "stdout",
          "output_type": "stream",
          "text": "Nothing great was ever achieved without enthusiasm. 96 55 74 43\n"
        }
      ],
      "execution_count": 9
    },
    {
      "id": "547c84af-0fed-4a76-a895-c0ac8eebed9c",
      "cell_type": "code",
      "source": "## Project 1.2: FizzBuzz\n\n# Creates the number that shall be incremented\nnumber = 1\n\n# This loop will last until the number exceeds 100\nwhile number <= 100:\n    # If the number is divisible by both 3 and 5 the program prints \"FizzBuzz\" \n    if number%3 == 0 and i%5 == 0:\n        print(\"FizzBuzz\")\n    # If the number is divisible by just 3 and not 5 the program prints \"Fizz\"\n    elif number%3 == 0:\n        print(\"Fizz\")\n    # If the number is divisible by just 5 and not 3 the program prints \"Buzz\"\n    elif number%5 == 0:\n        print(\"Buzz\")\n    # If the number isn't divisible by 3 or 5 the program prints the number\n    else:\n        print(number)\n    # The number is incremented by 1 after the result is printed\n    number+=1",
      "metadata": {
        "trusted": true
      },
      "outputs": [
        {
          "name": "stdout",
          "output_type": "stream",
          "text": "1\n2\nFizz\n4\nBuzz\nFizz\n7\n8\nFizz\nBuzz\n11\nFizz\n13\n14\nFizz\n16\n17\nFizz\n19\nBuzz\nFizz\n22\n23\nFizz\nBuzz\n26\nFizz\n28\n29\nFizz\n31\n32\nFizz\n34\nBuzz\nFizz\n37\n38\nFizz\nBuzz\n41\nFizz\n43\n44\nFizz\n46\n47\nFizz\n49\nBuzz\nFizz\n52\n53\nFizz\nBuzz\n56\nFizz\n58\n59\nFizz\n61\n62\nFizz\n64\nBuzz\nFizz\n67\n68\nFizz\nBuzz\n71\nFizz\n73\n74\nFizz\n76\n77\nFizz\n79\nBuzz\nFizz\n82\n83\nFizz\nBuzz\n86\nFizz\n88\n89\nFizz\n91\n92\nFizz\n94\nBuzz\nFizz\n97\n98\nFizz\nBuzz\n"
        }
      ],
      "execution_count": 10
    },
    {
      "id": "53b85c3e-9059-4459-b6fc-8186d847cc2a",
      "cell_type": "code",
      "source": "",
      "metadata": {
        "trusted": true
      },
      "outputs": [],
      "execution_count": null
    }
  ]
}