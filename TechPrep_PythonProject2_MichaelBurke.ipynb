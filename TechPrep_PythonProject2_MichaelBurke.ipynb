{
  "metadata": {
    "kernelspec": {
      "name": "python",
      "display_name": "Python (Pyodide)",
      "language": "python"
    },
    "language_info": {
      "codemirror_mode": {
        "name": "python",
        "version": 3
      },
      "file_extension": ".py",
      "mimetype": "text/x-python",
      "name": "python",
      "nbconvert_exporter": "python",
      "pygments_lexer": "ipython3",
      "version": "3.8"
    }
  },
  "nbformat_minor": 5,
  "nbformat": 4,
  "cells": [
    {
      "id": "a41b1f75-12c6-4592-8b54-d2a6bd9d64d7",
      "cell_type": "code",
      "source": "## Project 2: Student Grades\n\n# Importing Pandas to gain access to the DataFrames functions\nimport pandas as pd\n\n# Importing the table of students and grades\ndf = pd.read_csv('Grades_Short.csv')\n\n# Creating lists to contain the number and letter grades\nfinalGrade = []\nletterGrade = []\n\n# Averaging the grades of each student and appending them to the final grade list.\nfor i in df.index:\n    finalGrade.append((df.loc[i].values[2]+df.loc[i].values[3]+df.loc[i].values[4]+df.loc[i].values[5]+df.loc[i].values[6]+df.loc[i].values[7])/6)\n\n# Determining the letter grade for each student based on their final grades\nfor j in finalGrade:\n    if j > 90:\n        letterGrade.append(\"A+\")\n    elif j > 80:\n        letterGrade.append(\"A\")\n    elif j > 70:\n        letterGrade.append(\"B\")\n    elif j > 60:\n        letterGrade.append(\"C\")\n    elif j > 55:\n        letterGrade.append(\"D\")\n    else:\n        letterGrade.append(\"F\")\n\n# Adding the two kinds of grades to the DataFrame\ndf[\"Final Grade\"] = finalGrade\ndf[\"Letter Grade\"] = letterGrade\n\ndf.to_csv(\"Grades.csv\")",
      "metadata": {
        "trusted": true
      },
      "outputs": [],
      "execution_count": 68
    },
    {
      "id": "a3c46a9b-11c3-425f-a7cd-8556d703be42",
      "cell_type": "code",
      "source": "",
      "metadata": {
        "trusted": true
      },
      "outputs": [],
      "execution_count": null
    }
  ]
}